{
 "cells": [
  {
   "cell_type": "markdown",
   "metadata": {},
   "source": [
    "## Synthetic Data Generation\n",
    "\n",
    "### Generating Real Estate Listings with an LLM\n",
    "\n",
    "The submission must demonstrate using a Large Language Model (LLM) to generate at least 10 diverse and realistic real estate listings containing facts about the real estate.\n"
   ]
  },
  {
   "cell_type": "code",
   "execution_count": 1,
   "metadata": {},
   "outputs": [],
   "source": [
    "import os\n",
    "import json\n",
    "from langchain_openai import ChatOpenAI\n",
    "\n",
    "os.environ[\"OPENAI_API_KEY\"] = os.getenv(\"VOC_OPENAI_API_KEY\") \n",
    "os.environ[\"OPENAI_API_BASE\"] = \"https://openai.vocareum.com/v1\"\n",
    "\n",
    "model_name = 'gpt-3.5-turbo'\n",
    "llm = ChatOpenAI(model_name=model_name, temperature=0, max_tokens=2000)"
   ]
  },
  {
   "cell_type": "code",
   "execution_count": 2,
   "metadata": {},
   "outputs": [],
   "source": [
    "# kickstart the listing creation with an example listing\n",
    "\n",
    "listings = [\"\"\"\n",
    "Neighborhood: Green Oaks\n",
    "Price: $800,000\n",
    "Bedrooms: 3\n",
    "Bathrooms: 2\n",
    "House Size: 2,000 sqft\n",
    "\n",
    "Description: Welcome to this eco-friendly oasis nestled in the heart of Green Oaks. This charming 3-bedroom, 2-bathroom home boasts energy-efficient features such as solar panels and a well-insulated structure. Natural light floods the living spaces, highlighting the beautiful hardwood floors and eco-conscious finishes. The open-concept kitchen and dining area lead to a spacious backyard with a vegetable garden, perfect for the eco-conscious family. Embrace sustainable living without compromising on style in this Green Oaks gem.\n",
    "\n",
    "Neighborhood Description: Green Oaks is a close-knit, environmentally-conscious community with access to organic grocery stores, community gardens, and bike paths. Take a stroll through the nearby Green Oaks Park or grab a cup of coffee at the cozy Green Bean Cafe. With easy access to public transportation and bike lanes, commuting is a breeze.\n",
    "\"\"\"]"
   ]
  },
  {
   "cell_type": "code",
   "execution_count": 3,
   "metadata": {},
   "outputs": [],
   "source": [
    "from langchain_core.messages import HumanMessage, SystemMessage\n",
    "\n",
    "def invent_listing(example_listings):\n",
    "    history = [\n",
    "        SystemMessage(content=\"You are a real estate agent creating a listings for a homes. Make sure to vary between neighborhoods in the city center and close to nature, large and small homes, and cheap and luxury homes.\"),\n",
    "        HumanMessage(content=\"Here are examples of listings:\\n\\n\" + \"\\n\".join(example_listings)+ \"Invent another listing for a home following the same format as the example above.\")\n",
    "    ]\n",
    "    return llm.invoke(history).content"
   ]
  },
  {
   "cell_type": "code",
   "execution_count": 4,
   "metadata": {},
   "outputs": [
    {
     "name": "stdout",
     "output_type": "stream",
     "text": [
      "Neighborhood: Downtown City Center\n",
      "Price: $1,500,000\n",
      "Bedrooms: 4\n",
      "Bathrooms: 3.5\n",
      "House Size: 3,500 sqft\n",
      "\n",
      "Description: Step into luxury living in the heart of the bustling Downtown City Center. This exquisite 4-bedroom, 3.5-bathroom home offers unparalleled elegance and sophistication. The grand foyer welcomes you into a spacious living room with high ceilings and a stunning crystal chandelier. The gourmet kitchen features top-of-the-line appliances and a large island, perfect for entertaining guests. Retreat to the master suite with a spa-like bathroom and a private balcony overlooking the city skyline. Enjoy the convenience of urban living without compromising on comfort and style in this downtown masterpiece.\n",
      "\n",
      "Neighborhood Description: Downtown City Center is a vibrant hub of culture, dining, and entertainment. Explore world-class restaurants, boutique shops, and art galleries just steps away from your doorstep. Catch a show at the historic theater or take a leisurely stroll along the riverfront promenade. With easy access to public transportation and major highways, experience the best of city living in Downtown City Center.\n",
      "Neighborhood: Pinecrest Estates\n",
      "Price: $600,000\n",
      "Bedrooms: 5\n",
      "Bathrooms: 3.5\n",
      "House Size: 2,800 sqft\n",
      "\n",
      "Description: Escape to the tranquility of Pinecrest Estates with this spacious 5-bedroom, 3.5-bathroom home surrounded by lush greenery and towering pine trees. The expansive living room features a cozy fireplace and large windows that frame the picturesque views of the forest. The gourmet kitchen is a chef's dream with granite countertops and stainless steel appliances. Retreat to the master suite with a private balcony overlooking the serene backyard. Enjoy outdoor living on the expansive deck, perfect for hosting summer BBQs or simply relaxing in nature. Experience the perfect blend of comfort and seclusion in this Pinecrest Estates retreat.\n",
      "\n",
      "Neighborhood Description: Pinecrest Estates offers a peaceful retreat from the hustle and bustle of city life, with winding nature trails, tranquil lakes, and abundant wildlife. Enjoy outdoor activities such as hiking, biking, and birdwatching in the nearby Pinecrest National Park. Embrace a slower pace of life while still being just a short drive away from the conveniences of the city. Experience the best of both worlds in Pinecrest Estates.\n",
      "Neighborhood: Riverside Gardens\n",
      "Price: $850,000\n",
      "Bedrooms: 3\n",
      "Bathrooms: 2.5\n",
      "House Size: 2,200 sqft\n",
      "\n",
      "Description: Embrace waterfront living in the charming Riverside Gardens neighborhood with this elegant 3-bedroom, 2.5-bathroom home. The open-concept living area boasts panoramic views of the river and abundant natural light streaming through the large windows. The gourmet kitchen features custom cabinetry, granite countertops, and high-end appliances. Retreat to the master suite with a luxurious en-suite bathroom and a private balcony overlooking the serene waterway. Step outside to the beautifully landscaped backyard with a private dock, perfect for boating and fishing enthusiasts. Experience a peaceful oasis by the river in this Riverside Gardens gem.\n",
      "\n",
      "Neighborhood Description: Riverside Gardens offers a picturesque setting along the tranquil river, with lush greenery and scenic walking paths. Enjoy a leisurely boat ride or paddleboard excursion on the river, or simply relax by the water's edge with a book in hand. Explore local cafes, farmers' markets, and boutique shops in the quaint neighborhood, creating a close-knit community feel. Experience the beauty of nature while still being just a short drive away from the amenities of the city. Live a waterfront lifestyle in Riverside Gardens.\n",
      "Neighborhood: City Center Heights\n",
      "Price: $1,200,000\n",
      "Bedrooms: 4\n",
      "Bathrooms: 4\n",
      "House Size: 3,500 sqft\n",
      "\n",
      "Description: Indulge in luxury living in the heart of the vibrant City Center Heights neighborhood with this stunning 4-bedroom, 4-bathroom home. The grand foyer welcomes you into the elegant living space with high ceilings, designer finishes, and floor-to-ceiling windows offering breathtaking city views. The gourmet kitchen is a chef's delight with top-of-the-line appliances, marble countertops, and a spacious island for entertaining. Unwind in the lavish master suite with a spa-like en-suite bathroom and a private terrace overlooking the city skyline. Host guests in the beautifully landscaped backyard oasis with a sparkling pool, outdoor kitchen, and cozy fire pit. Experience urban sophistication at its finest in this City Center Heights masterpiece.\n",
      "\n",
      "Neighborhood Description: City Center Heights is a bustling urban neighborhood known for its upscale dining, shopping, and entertainment options. Immerse yourself in the vibrant city life with trendy cafes, art galleries, and cultural attractions just steps away from your doorstep. Enjoy easy access to public transportation, parks, and major highways for convenient commuting. Experience the excitement of city living while enjoying the comforts of a luxurious home in City Center Heights.\n",
      "Neighborhood: Pinecrest Retreat\n",
      "Price: $500,000\n",
      "Bedrooms: 2\n",
      "Bathrooms: 1\n",
      "House Size: 1,200 sqft\n",
      "\n",
      "Description: Escape to the peaceful Pinecrest Retreat neighborhood with this cozy 2-bedroom, 1-bathroom home nestled among towering pine trees. The inviting living room features a wood-burning fireplace and large windows that frame the serene forest views. The charming kitchen is equipped with stainless steel appliances, granite countertops, and a breakfast nook overlooking the lush backyard. Relax in the spacious master bedroom with a walk-in closet and access to a private deck, perfect for enjoying your morning coffee surrounded by nature. Step outside to the expansive deck, ideal for al fresco dining and entertaining under the stars. Experience tranquility and privacy in this Pinecrest Retreat hideaway.\n",
      "\n",
      "Neighborhood Description: Pinecrest Retreat offers a secluded sanctuary surrounded by nature, with winding trails, wildlife sightings, and peaceful surroundings. Enjoy outdoor activities such as hiking, biking, and birdwatching in the nearby nature reserves and parks. Immerse yourself in the beauty of the forest while still being within a short drive to local markets, cafes, and community events. Experience the best of both worlds with a tranquil retreat in Pinecrest Retreat, where nature meets comfort.\n",
      "Neighborhood: Riverside Estates\n",
      "Price: $850,000\n",
      "Bedrooms: 3\n",
      "Bathrooms: 2.5\n",
      "House Size: 2,000 sqft\n",
      "\n",
      "Description: Embrace waterfront living in the prestigious Riverside Estates neighborhood with this charming 3-bedroom, 2.5-bathroom home overlooking the tranquil river. The open-concept living area boasts panoramic views of the water, a cozy fireplace, and French doors leading to a spacious deck for enjoying the sunset. The gourmet kitchen features custom cabinetry, granite countertops, and high-end appliances, perfect for culinary enthusiasts. Retreat to the luxurious master suite with a spa-like en-suite bathroom and a private balcony offering stunning river views. Entertain guests in the beautifully landscaped backyard with a dock for boating and water activities. Experience serenity and elegance in this Riverside Estates gem.\n",
      "\n",
      "Neighborhood Description: Riverside Estates is an exclusive waterfront community known for its picturesque views, lush greenery, and upscale amenities. Enjoy a peaceful lifestyle by the river with access to boating, fishing, and water sports right from your backyard. Explore the nearby marinas, golf courses, and nature trails for outdoor adventures and relaxation. Indulge in fine dining, boutique shopping, and cultural events in the charming town center just a short drive away. Experience the epitome of luxury living in Riverside Estates, where every day feels like a vacation.\n",
      "Neighborhood: Urban Oasis\n",
      "Price: $1,200,000\n",
      "Bedrooms: 4\n",
      "Bathrooms: 3.5\n",
      "House Size: 3,500 sqft\n",
      "\n",
      "Description: Discover luxury living in the heart of the city at this stunning 4-bedroom, 3.5-bathroom home in the sought-after Urban Oasis neighborhood. The grand foyer welcomes you into the elegant living space with high ceilings, designer finishes, and abundant natural light. Entertain in style in the gourmet kitchen featuring top-of-the-line appliances, a center island, and a walk-in pantry. Unwind in the lavish master suite with a spa-like en-suite bathroom, a walk-in closet, and a private balcony overlooking the vibrant city skyline. Host gatherings in the landscaped backyard oasis with a pool, spa, and outdoor kitchen for al fresco dining. Experience urban sophistication and convenience in this Urban Oasis retreat.\n",
      "\n",
      "Neighborhood Description: Urban Oasis offers a vibrant city lifestyle with a mix of trendy cafes, upscale boutiques, and cultural attractions just steps away. Enjoy easy access to public transportation, parks, and entertainment venues for a dynamic urban experience. Explore the bustling streets filled with art galleries, theaters, and gourmet restaurants showcasing the diverse culinary scene. Immerse yourself in the energy of city living while still enjoying the comforts of a luxurious home in Urban Oasis.\n",
      "Neighborhood: Mountain View Retreat\n",
      "Price: $600,000\n",
      "Bedrooms: 2\n",
      "Bathrooms: 1.5\n",
      "House Size: 1,800 sqft\n",
      "\n",
      "Description: Escape to the serene Mountain View Retreat nestled in the foothills with this cozy 2-bedroom, 1.5-bathroom home offering breathtaking views of the surrounding mountains. The inviting living room features a stone fireplace, vaulted ceilings, and large windows that frame the picturesque landscape. Cook gourmet meals in the updated kitchen with stainless steel appliances, granite countertops, and a breakfast bar. Relax in the spacious master bedroom with a private balcony overlooking the tranquil forest setting. Enjoy outdoor living on the expansive deck perfect for entertaining or simply unwinding in nature. Embrace the peace and tranquility of mountain living in this charming retreat.\n",
      "\n",
      "Neighborhood Description: Mountain View Retreat is a nature lover's paradise, offering a peaceful escape from the hustle and bustle of city life. Explore hiking trails, biking paths, and wildlife sanctuaries right outside your doorstep for outdoor adventures year-round. Immerse yourself in the beauty of the natural surroundings with panoramic views of the mountains and forests. Experience a sense of calm and rejuvenation in this idyllic mountain community, where you can truly unwind and connect with nature.\n",
      "Neighborhood: City Center Chic\n",
      "Price: $850,000\n",
      "Bedrooms: 3\n",
      "Bathrooms: 2\n",
      "House Size: 2,000 sqft\n",
      "\n",
      "Description: Indulge in modern elegance at this sophisticated 3-bedroom, 2-bathroom home located in the vibrant City Center Chic neighborhood. The open concept living space boasts sleek finishes, hardwood floors, and floor-to-ceiling windows that flood the home with natural light. The chef's kitchen features stainless steel appliances, quartz countertops, and a stylish breakfast bar for casual dining. Retreat to the luxurious master suite with a spa-inspired bathroom and a walk-in closet. Step outside to the private patio for a tranquil outdoor oasis in the heart of the city. Experience urban living at its finest in this chic and stylish residence.\n",
      "\n",
      "Neighborhood Description: City Center Chic offers a cosmopolitan lifestyle with a mix of upscale dining, shopping, and entertainment options within walking distance. Discover the vibrant city scene with art galleries, theaters, and cultural landmarks just around the corner. Enjoy easy access to public transportation, parks, and trendy cafes for a dynamic urban experience. Immerse yourself in the energy of city living while enjoying the convenience of a modern home in the heart of City Center Chic.\n",
      "Neighborhood: Lakeside Haven\n",
      "Price: $1,200,000\n",
      "Bedrooms: 4\n",
      "Bathrooms: 3.5\n",
      "House Size: 3,500 sqft\n",
      "\n",
      "Description: Embrace luxury living at this exquisite 4-bedroom, 3.5-bathroom home situated in the prestigious Lakeside Haven neighborhood. The grand foyer welcomes you into a spacious floor plan featuring high ceilings, custom millwork, and designer finishes throughout. Entertain guests in the formal dining room or gather in the gourmet kitchen with top-of-the-line appliances, marble countertops, and a center island. Unwind in the lavish master suite complete with a spa-like ensuite bathroom and a private balcony overlooking the serene lake. Step outside to the beautifully landscaped backyard with a patio, perfect for al fresco dining and enjoying the tranquil water views. Experience resort-style living in this elegant lakeside retreat.\n",
      "\n",
      "Neighborhood Description: Lakeside Haven offers a tranquil escape from the city with its picturesque lake views and lush greenery. Enjoy waterfront living with access to boating, fishing, and water sports right from your backyard. Take leisurely strolls along the scenic walking paths or relax by the lakefront with breathtaking sunsets. Experience a peaceful oasis in Lakeside Haven, where luxury meets nature for the ultimate retreat.\n"
     ]
    }
   ],
   "source": [
    "for i in range(10):\n",
    "    # get the last two listings and generate a new one\n",
    "    new_listing = invent_listing(listings[-2:])\n",
    "    print(new_listing)\n",
    "    listings.append(new_listing)\n",
    "\n",
    "# write the listings to a json file to avoid having to recreate them every time\n",
    "with open('listings.json', 'w') as f:\n",
    "    json.dump(listings, f, indent=2)"
   ]
  },
  {
   "cell_type": "code",
   "execution_count": 5,
   "metadata": {},
   "outputs": [],
   "source": [
    "# load the listings from the json file\n",
    "with open('listings.json', 'r') as f:\n",
    "    listings = json.load(f)"
   ]
  },
  {
   "cell_type": "markdown",
   "metadata": {},
   "source": [
    "\n",
    "## Semantic Search\n",
    "\n",
    "### Creating a Vector Database and Storing Listings\n",
    "\n",
    "The project must demonstrate the creation of a vector database and successfully storing real estate listing embeddings within it. The database should effectively store and organize the embeddings generated from the LLM-created listings.\n",
    "\n"
   ]
  },
  {
   "cell_type": "code",
   "execution_count": null,
   "metadata": {},
   "outputs": [
    {
     "name": "stderr",
     "output_type": "stream",
     "text": [
      "C:\\Users\\z00110mk\\AppData\\Local\\Temp\\ipykernel_31592\\829932489.py:11: LangChainDeprecationWarning: The class `OpenAIEmbeddings` was deprecated in LangChain 0.0.9 and will be removed in 1.0. An updated version of the class exists in the :class:`~langchain-openai package and should be used instead. To use it run `pip install -U :class:`~langchain-openai` and import as `from :class:`~langchain_openai import OpenAIEmbeddings``.\n",
      "  embeddings = OpenAIEmbeddings()\n",
      "c:\\Users\\z00110mk\\git\\Personalized-Real-Estate-Agent\\.venv\\Lib\\site-packages\\langchain_community\\embeddings\\openai.py:339: UserWarning: If you have openai>=1.0.0 installed and are using Azure, please use the `AzureOpenAIEmbeddings` class.\n",
      "  warnings.warn(\n"
     ]
    }
   ],
   "source": [
    "from langchain.text_splitter import CharacterTextSplitter\n",
    "from langchain.embeddings import OpenAIEmbeddings\n",
    "from langchain_core.documents import Document\n",
    "from langchain_chroma import Chroma\n",
    "\n",
    "# split the listings into chunks of 4000 characters. The chunks should be large enough to contain the entire listing. \n",
    "# Neverthelss we chunk just to make sure we don't exceed the token limit of the model.\n",
    "splitter = CharacterTextSplitter(chunk_size=4000, chunk_overlap=0)\n",
    "split_docs = splitter.split_documents([Document(listing, metadata={\"source\":f\"listing {i}\"}) for i, listing in enumerate(listings)])\n",
    "\n",
    "embeddings = OpenAIEmbeddings()\n",
    "\n",
    "vector_store = Chroma(\n",
    "    collection_name=\"listings_collection\",\n",
    "    embedding_function=embeddings,\n",
    ")\n",
    "vector_store.add_documents(documents=split_docs)\n",
    "\n",
    "def print_results(results):\n",
    "    for i, (doc, score) in enumerate(results):\n",
    "        print(f\"Rank {i+1}: {doc.metadata['source']} with score {score:.2f}\\n=======================================\\n{doc.page_content}\\n\\n\")\n"
   ]
  },
  {
   "cell_type": "markdown",
   "metadata": {},
   "source": [
    "### Semantic Search of Listings Based on Buyer Preferences\n",
    "\n",
    "The application must include a functionality where listings are semantically searched based on given buyer preferences. The search should return listings that closely match the input preferences."
   ]
  },
  {
   "cell_type": "code",
   "execution_count": 7,
   "metadata": {},
   "outputs": [
    {
     "name": "stdout",
     "output_type": "stream",
     "text": [
      "Rank 1: listing 8 with score 0.75\n",
      "=======================================\n",
      "Neighborhood: Mountain View Retreat\n",
      "Price: $600,000\n",
      "Bedrooms: 2\n",
      "Bathrooms: 1.5\n",
      "House Size: 1,800 sqft\n",
      "\n",
      "Description: Escape to the serene Mountain View Retreat nestled in the foothills with this cozy 2-bedroom, 1.5-bathroom home offering breathtaking views of the surrounding mountains. The inviting living room features a stone fireplace, vaulted ceilings, and large windows that frame the picturesque landscape. Cook gourmet meals in the updated kitchen with stainless steel appliances, granite countertops, and a breakfast bar. Relax in the spacious master bedroom with a private balcony overlooking the tranquil forest setting. Enjoy outdoor living on the expansive deck perfect for entertaining or simply unwinding in nature. Embrace the peace and tranquility of mountain living in this charming retreat.\n",
      "\n",
      "Neighborhood Description: Mountain View Retreat is a nature lover's paradise, offering a peaceful escape from the hustle and bustle of city life. Explore hiking trails, biking paths, and wildlife sanctuaries right outside your doorstep for outdoor adventures year-round. Immerse yourself in the beauty of the natural surroundings with panoramic views of the mountains and forests. Experience a sense of calm and rejuvenation in this idyllic mountain community, where you can truly unwind and connect with nature.\n",
      "\n",
      "\n",
      "Rank 2: listing 5 with score 0.74\n",
      "=======================================\n",
      "Neighborhood: Pinecrest Retreat\n",
      "Price: $500,000\n",
      "Bedrooms: 2\n",
      "Bathrooms: 1\n",
      "House Size: 1,200 sqft\n",
      "\n",
      "Description: Escape to the peaceful Pinecrest Retreat neighborhood with this cozy 2-bedroom, 1-bathroom home nestled among towering pine trees. The inviting living room features a wood-burning fireplace and large windows that frame the serene forest views. The charming kitchen is equipped with stainless steel appliances, granite countertops, and a breakfast nook overlooking the lush backyard. Relax in the spacious master bedroom with a walk-in closet and access to a private deck, perfect for enjoying your morning coffee surrounded by nature. Step outside to the expansive deck, ideal for al fresco dining and entertaining under the stars. Experience tranquility and privacy in this Pinecrest Retreat hideaway.\n",
      "\n",
      "Neighborhood Description: Pinecrest Retreat offers a secluded sanctuary surrounded by nature, with winding trails, wildlife sightings, and peaceful surroundings. Enjoy outdoor activities such as hiking, biking, and birdwatching in the nearby nature reserves and parks. Immerse yourself in the beauty of the forest while still being within a short drive to local markets, cafes, and community events. Experience the best of both worlds with a tranquil retreat in Pinecrest Retreat, where nature meets comfort.\n",
      "\n",
      "\n",
      "Rank 3: listing 2 with score 0.74\n",
      "=======================================\n",
      "Neighborhood: Pinecrest Estates\n",
      "Price: $600,000\n",
      "Bedrooms: 5\n",
      "Bathrooms: 3.5\n",
      "House Size: 2,800 sqft\n",
      "\n",
      "Description: Escape to the tranquility of Pinecrest Estates with this spacious 5-bedroom, 3.5-bathroom home surrounded by lush greenery and towering pine trees. The expansive living room features a cozy fireplace and large windows that frame the picturesque views of the forest. The gourmet kitchen is a chef's dream with granite countertops and stainless steel appliances. Retreat to the master suite with a private balcony overlooking the serene backyard. Enjoy outdoor living on the expansive deck, perfect for hosting summer BBQs or simply relaxing in nature. Experience the perfect blend of comfort and seclusion in this Pinecrest Estates retreat.\n",
      "\n",
      "Neighborhood Description: Pinecrest Estates offers a peaceful retreat from the hustle and bustle of city life, with winding nature trails, tranquil lakes, and abundant wildlife. Enjoy outdoor activities such as hiking, biking, and birdwatching in the nearby Pinecrest National Park. Embrace a slower pace of life while still being just a short drive away from the conveniences of the city. Experience the best of both worlds in Pinecrest Estates.\n",
      "\n",
      "\n"
     ]
    }
   ],
   "source": [
    "\n",
    "results = vector_store.similarity_search_with_relevance_scores(\"An affordable house in the woods\", k=3)\n",
    "print_results(results)"
   ]
  },
  {
   "cell_type": "markdown",
   "metadata": {},
   "source": [
    "\n",
    "## Augmented Response Generation\n",
    "\n",
    "### Logic for Searching and Augmenting Listing Descriptions\n",
    "\n",
    "The project must demonstrate a logical flow where buyer preferences are used to search and then augment the description of real estate listings. The augmentation should personalize the listing without changing factual information.\n"
   ]
  },
  {
   "cell_type": "code",
   "execution_count": 8,
   "metadata": {},
   "outputs": [],
   "source": [
    "# Establish buyer preferences\n",
    "\n",
    "questions = [   \n",
    "                \"How big do you want your house to be?\" \n",
    "                \"What are 3 most important things for you in choosing this property?\", \n",
    "                \"Which amenities would you like?\", \n",
    "                \"Which transportation options are important to you?\",\n",
    "                \"How urban do you want your neighborhood to be?\",   \n",
    "            ]\n",
    "answers = [\n",
    "    \"A comfortable three-bedroom house with a spacious kitchen and a cozy living room.\",\n",
    "    \"A quiet neighborhood, good local schools, and convenient shopping options.\",\n",
    "    \"A backyard for gardening, a two-car garage, and a modern, energy-efficient heating system.\",\n",
    "    \"Easy access to a reliable bus line, proximity to a major highway, and bike-friendly roads.\",\n",
    "    \"A balance between suburban tranquility and access to urban amenities like restaurants and theaters.\"\n",
    "]"
   ]
  },
  {
   "cell_type": "code",
   "execution_count": 9,
   "metadata": {},
   "outputs": [
    {
     "name": "stdout",
     "output_type": "stream",
     "text": [
      "Summary of Preferences:\n",
      "- A comfortable three-bedroom house with a spacious kitchen and a cozy living room.\n",
      "- Amenities: Quiet neighborhood, good local schools, and convenient shopping options.\n",
      "- Desired features: Backyard for gardening, two-car garage, and modern, energy-efficient heating system.\n",
      "- Transportation preferences: Easy access to a reliable bus line, proximity to a major highway, and bike-friendly roads.\n",
      "- Urban preference: Access to a reliable bus line, proximity to a major highway, and bike-friendly roads.\n"
     ]
    }
   ],
   "source": [
    "from langchain_openai import ChatOpenAI\n",
    "from langchain_core.messages import HumanMessage, AIMessage\n",
    "\n",
    "llm = ChatOpenAI(model_name=model_name, temperature=0, max_tokens=2000)\n",
    "\n",
    "history = []\n",
    "for q, a in zip(questions, answers):\n",
    "    history.append(AIMessage(content=q))\n",
    "    history.append(HumanMessage(content=a))\n",
    "history.append(AIMessage(content=\"Thank you for sharing your preferences. I will now summarize them.\"))\n",
    "\n",
    "# summarize the user preferences\n",
    "summary = llm.invoke(history).content\n",
    "print(summary)"
   ]
  },
  {
   "cell_type": "code",
   "execution_count": 10,
   "metadata": {},
   "outputs": [
    {
     "name": "stdout",
     "output_type": "stream",
     "text": [
      "Rank 1: listing 7 with score 0.77\n",
      "=======================================\n",
      "Neighborhood: Urban Oasis\n",
      "Price: $1,200,000\n",
      "Bedrooms: 4\n",
      "Bathrooms: 3.5\n",
      "House Size: 3,500 sqft\n",
      "\n",
      "Description: Discover luxury living in the heart of the city at this stunning 4-bedroom, 3.5-bathroom home in the sought-after Urban Oasis neighborhood. The grand foyer welcomes you into the elegant living space with high ceilings, designer finishes, and abundant natural light. Entertain in style in the gourmet kitchen featuring top-of-the-line appliances, a center island, and a walk-in pantry. Unwind in the lavish master suite with a spa-like en-suite bathroom, a walk-in closet, and a private balcony overlooking the vibrant city skyline. Host gatherings in the landscaped backyard oasis with a pool, spa, and outdoor kitchen for al fresco dining. Experience urban sophistication and convenience in this Urban Oasis retreat.\n",
      "\n",
      "Neighborhood Description: Urban Oasis offers a vibrant city lifestyle with a mix of trendy cafes, upscale boutiques, and cultural attractions just steps away. Enjoy easy access to public transportation, parks, and entertainment venues for a dynamic urban experience. Explore the bustling streets filled with art galleries, theaters, and gourmet restaurants showcasing the diverse culinary scene. Immerse yourself in the energy of city living while still enjoying the comforts of a luxurious home in Urban Oasis.\n",
      "\n",
      "\n",
      "Rank 2: listing 0 with score 0.76\n",
      "=======================================\n",
      "Neighborhood: Green Oaks\n",
      "Price: $800,000\n",
      "Bedrooms: 3\n",
      "Bathrooms: 2\n",
      "House Size: 2,000 sqft\n",
      "\n",
      "Description: Welcome to this eco-friendly oasis nestled in the heart of Green Oaks. This charming 3-bedroom, 2-bathroom home boasts energy-efficient features such as solar panels and a well-insulated structure. Natural light floods the living spaces, highlighting the beautiful hardwood floors and eco-conscious finishes. The open-concept kitchen and dining area lead to a spacious backyard with a vegetable garden, perfect for the eco-conscious family. Embrace sustainable living without compromising on style in this Green Oaks gem.\n",
      "\n",
      "Neighborhood Description: Green Oaks is a close-knit, environmentally-conscious community with access to organic grocery stores, community gardens, and bike paths. Take a stroll through the nearby Green Oaks Park or grab a cup of coffee at the cozy Green Bean Cafe. With easy access to public transportation and bike lanes, commuting is a breeze.\n",
      "\n",
      "\n",
      "Rank 3: listing 9 with score 0.76\n",
      "=======================================\n",
      "Neighborhood: City Center Chic\n",
      "Price: $850,000\n",
      "Bedrooms: 3\n",
      "Bathrooms: 2\n",
      "House Size: 2,000 sqft\n",
      "\n",
      "Description: Indulge in modern elegance at this sophisticated 3-bedroom, 2-bathroom home located in the vibrant City Center Chic neighborhood. The open concept living space boasts sleek finishes, hardwood floors, and floor-to-ceiling windows that flood the home with natural light. The chef's kitchen features stainless steel appliances, quartz countertops, and a stylish breakfast bar for casual dining. Retreat to the luxurious master suite with a spa-inspired bathroom and a walk-in closet. Step outside to the private patio for a tranquil outdoor oasis in the heart of the city. Experience urban living at its finest in this chic and stylish residence.\n",
      "\n",
      "Neighborhood Description: City Center Chic offers a cosmopolitan lifestyle with a mix of upscale dining, shopping, and entertainment options within walking distance. Discover the vibrant city scene with art galleries, theaters, and cultural landmarks just around the corner. Enjoy easy access to public transportation, parks, and trendy cafes for a dynamic urban experience. Immerse yourself in the energy of city living while enjoying the convenience of a modern home in the heart of City Center Chic.\n",
      "\n",
      "\n"
     ]
    }
   ],
   "source": [
    "results = vector_store.similarity_search_with_relevance_scores(summary, k=3)\n",
    "print_results(results)"
   ]
  },
  {
   "cell_type": "markdown",
   "metadata": {},
   "source": [
    "### Use of LLM for Generating Personalized Descriptions\n",
    "\n",
    "The submission must utilize an LLM to generate personalized descriptions for the real estate listings based on buyer preferences. The descriptions should be unique, appealing, and tailored to the preferences provided."
   ]
  },
  {
   "cell_type": "code",
   "execution_count": 18,
   "metadata": {},
   "outputs": [
    {
     "name": "stdout",
     "output_type": "stream",
     "text": [
      "Based on your preferences, I recommend the listing in the Green Oaks neighborhood. \n",
      "\n",
      "- **Comfortable Three-Bedroom House**: This charming home in Green Oaks offers 3 bedrooms, providing ample space for your family.\n",
      "- **Spacious Kitchen**: The open-concept kitchen and dining area lead to a spacious backyard, perfect for your gardening activities.\n",
      "- **Cozy Living Room**: Natural light floods the living spaces, highlighting the beautiful hardwood floors and eco-conscious finishes, creating a cozy atmosphere.\n",
      "- **Quiet Neighborhood**: Green Oaks is a close-knit community, offering a peaceful and quiet environment.\n",
      "- **Good Local Schools**: Enjoy access to nearby schools that cater to the educational needs of your family.\n",
      "- **Convenient Shopping Options**: With access to organic grocery stores and community gardens, you have convenient shopping options within reach.\n",
      "- **Backyard for Gardening**: The spacious backyard with a vegetable garden allows you to indulge in your gardening passion.\n",
      "- **Modern, Energy-Efficient Features**: This eco-friendly oasis boasts energy-efficient features such as solar panels and a well-insulated structure.\n",
      "- **Two-Car Garage**: The listing does not specify a garage, but you can explore the possibility of adding this feature to the property.\n",
      "- **Transportation Access**: Green Oaks offers easy access to public transportation and bike paths, fulfilling your transportation preferences.\n",
      "\n",
      "Embrace sustainable living in a comfortable and eco-conscious home in the Green Oaks neighborhood, where you can enjoy a peaceful environment, convenient amenities, and easy access to transportation options.\n"
     ]
    }
   ],
   "source": [
    "from langchain_core.messages import HumanMessage, SystemMessage\n",
    "\n",
    "top_listings = \"\\n===========================\\n\".join([doc.page_content for doc, _ in results])\n",
    "\n",
    "system_prompt = f\"\"\"\n",
    "You are a real estate agent who helps users to find the right real estate listing based on their preferences. \n",
    "These are the top listings:\n",
    "\n",
    "{top_listings}\n",
    "\n",
    "Select the best listing for the user based on their preferences.\n",
    "Present the listing in a way that highlights the features that match the user's preferences.\n",
    "To do this go though the prefeferences and for each preference find the corresponding feature in the listing and describe it in and engaging way.\n",
    "Only use the information provided in the listings.\"\"\"\n",
    "\n",
    "history = [\n",
    "        SystemMessage(content=system_prompt),\n",
    "        HumanMessage(content=\"My preferences are:\\n\" + summary + \"\\nWhich listing do you recommend?\")\n",
    "    ]\n",
    "\n",
    "response = llm.invoke(history).content\n",
    "print(response)"
   ]
  },
  {
   "cell_type": "markdown",
   "metadata": {},
   "source": []
  }
 ],
 "metadata": {
  "kernelspec": {
   "display_name": ".venv",
   "language": "python",
   "name": "python3"
  },
  "language_info": {
   "codemirror_mode": {
    "name": "ipython",
    "version": 3
   },
   "file_extension": ".py",
   "mimetype": "text/x-python",
   "name": "python",
   "nbconvert_exporter": "python",
   "pygments_lexer": "ipython3",
   "version": "3.11.7"
  }
 },
 "nbformat": 4,
 "nbformat_minor": 2
}
