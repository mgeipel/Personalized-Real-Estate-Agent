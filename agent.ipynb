{
 "cells": [
  {
   "cell_type": "markdown",
   "metadata": {},
   "source": [
    "## Synthetic Data Generation\n",
    "\n",
    "### Generating Real Estate Listings with an LLM\n",
    "\n",
    "The submission must demonstrate using a Large Language Model (LLM) to generate at least 10 diverse and realistic real estate listings containing facts about the real estate.\n"
   ]
  },
  {
   "cell_type": "code",
   "execution_count": 3,
   "metadata": {},
   "outputs": [],
   "source": [
    "import os\n",
    "import json\n",
    "from langchain_openai import ChatOpenAI\n",
    "\n",
    "os.environ[\"OPENAI_API_KEY\"] = os.getenv(\"VOC_OPENAI_API_KEY\") \n",
    "os.environ[\"OPENAI_API_BASE\"] = \"https://openai.vocareum.com/v1\"\n",
    "\n",
    "model_name = 'gpt-3.5-turbo'\n",
    "llm = ChatOpenAI(model_name=model_name, temperature=0, max_tokens=2000)"
   ]
  },
  {
   "cell_type": "code",
   "execution_count": 2,
   "metadata": {},
   "outputs": [],
   "source": [
    "# kickstart the listing creation with an example listing\n",
    "\n",
    "listings = [\"\"\"\n",
    "Neighborhood: Green Oaks\n",
    "Price: $800,000\n",
    "Bedrooms: 3\n",
    "Bathrooms: 2\n",
    "House Size: 2,000 sqft\n",
    "\n",
    "Description: Welcome to this eco-friendly oasis nestled in the heart of Green Oaks. This charming 3-bedroom, 2-bathroom home boasts energy-efficient features such as solar panels and a well-insulated structure. Natural light floods the living spaces, highlighting the beautiful hardwood floors and eco-conscious finishes. The open-concept kitchen and dining area lead to a spacious backyard with a vegetable garden, perfect for the eco-conscious family. Embrace sustainable living without compromising on style in this Green Oaks gem.\n",
    "\n",
    "Neighborhood Description: Green Oaks is a close-knit, environmentally-conscious community with access to organic grocery stores, community gardens, and bike paths. Take a stroll through the nearby Green Oaks Park or grab a cup of coffee at the cozy Green Bean Cafe. With easy access to public transportation and bike lanes, commuting is a breeze.\n",
    "\"\"\"]"
   ]
  },
  {
   "cell_type": "code",
   "execution_count": 3,
   "metadata": {},
   "outputs": [],
   "source": [
    "from langchain_core.messages import HumanMessage, SystemMessage\n",
    "\n",
    "def invent_listing(example_listings):\n",
    "    history = [\n",
    "        SystemMessage(content=\"You are a real estate agent creating a listings for a homes. Make sure to vary between neighborhoods in the city center and close to nature, large and small homes, and cheap and luxury homes.\"),\n",
    "        HumanMessage(content=\"Here are examples of listings:\\n\\n\" + \"\\n\".join(example_listings)+ \"Invent another listing for a home following the same format as the example above.\")\n",
    "    ]\n",
    "    return llm.invoke(history).content"
   ]
  },
  {
   "cell_type": "code",
   "execution_count": 4,
   "metadata": {},
   "outputs": [
    {
     "name": "stdout",
     "output_type": "stream",
     "text": [
      "Neighborhood: Downtown City Center\n",
      "Price: $1,500,000\n",
      "Bedrooms: 4\n",
      "Bathrooms: 3.5\n",
      "House Size: 3,500 sqft\n",
      "\n",
      "Description: Step into luxury living in the heart of the bustling Downtown City Center. This exquisite 4-bedroom, 3.5-bathroom home offers unparalleled elegance and sophistication. The grand foyer welcomes you into a spacious living room with high ceilings and a stunning crystal chandelier. The gourmet kitchen features top-of-the-line appliances and a large island, perfect for entertaining guests. Retreat to the master suite with a spa-like bathroom and a private balcony overlooking the city skyline. Enjoy the convenience of urban living without compromising on comfort and style in this downtown masterpiece.\n",
      "\n",
      "Neighborhood Description: Downtown City Center is a vibrant hub of culture, dining, and entertainment. Explore world-class restaurants, boutique shops, and art galleries just steps away from your doorstep. Catch a show at the historic theater or take a leisurely stroll along the riverfront promenade. With easy access to public transportation and major highways, experience the best of city living in Downtown City Center.\n",
      "Neighborhood: Pinecrest Estates\n",
      "Price: $600,000\n",
      "Bedrooms: 5\n",
      "Bathrooms: 3.5\n",
      "House Size: 2,800 sqft\n",
      "\n",
      "Description: Escape to the tranquility of Pinecrest Estates, where this spacious 5-bedroom, 3.5-bathroom home awaits. Surrounded by lush greenery and towering pine trees, this retreat offers a peaceful sanctuary away from the hustle and bustle of city life. The expansive living room features a cozy fireplace and large windows that frame picturesque views of the forest. The gourmet kitchen is a chef's dream with granite countertops and stainless steel appliances. Step outside to the sprawling backyard with a deck, perfect for hosting summer barbecues or simply enjoying the serenity of nature. Embrace the beauty of the outdoors while still enjoying the comforts of modern living in this Pinecrest Estates gem.\n",
      "\n",
      "Neighborhood Description: Pinecrest Estates is a nature lover's paradise, with hiking trails, lakes, and parks just a stone's throw away. Spend weekends exploring the nearby Pinecrest National Park or picnicking by the tranquil Pinecrest Lake. Enjoy the peace and quiet of suburban living while still being within a short drive to the city center for work or entertainment. Experience the best of both worlds in Pinecrest Estates.\n",
      "Neighborhood: Riverside Gardens\n",
      "Price: $850,000\n",
      "Bedrooms: 3\n",
      "Bathrooms: 2.5\n",
      "House Size: 2,200 sqft\n",
      "\n",
      "Description: Nestled along the serene Riverside Gardens, this charming 3-bedroom, 2.5-bathroom home offers a perfect blend of comfort and elegance. The open-concept living area is bathed in natural light, creating a warm and inviting atmosphere. The updated kitchen features granite countertops, stainless steel appliances, and a breakfast nook overlooking the landscaped backyard. Retreat to the master suite with a walk-in closet and a spa-like ensuite bathroom with a soaking tub. Step outside to the lush garden oasis with a patio, ideal for al fresco dining or relaxing amidst the sounds of nature. Experience peaceful living in this Riverside Gardens sanctuary.\n",
      "\n",
      "Neighborhood Description: Riverside Gardens is a picturesque neighborhood with tree-lined streets and waterfront views. Enjoy leisurely walks along the riverbank or take a boat ride on the tranquil Riverside Lake. Explore nearby parks and green spaces, perfect for outdoor activities and family picnics. With easy access to local shops, schools, and community amenities, Riverside Gardens offers a peaceful retreat while still being close to urban conveniences. Experience the beauty of riverside living in this idyllic neighborhood.\n",
      "Neighborhood: City Center Heights\n",
      "Price: $1,200,000\n",
      "Bedrooms: 4\n",
      "Bathrooms: 4\n",
      "House Size: 3,500 sqft\n",
      "\n",
      "Description: Welcome to the heart of the city in City Center Heights, where luxury meets convenience in this stunning 4-bedroom, 4-bathroom home. The grand foyer leads to a spacious living room with high ceilings and elegant finishes, perfect for entertaining guests or relaxing with family. The gourmet kitchen is a chef's delight with top-of-the-line appliances, custom cabinetry, and a large island for casual dining. The master suite is a private retreat with a luxurious ensuite bathroom and a walk-in closet. Step outside to the rooftop terrace with panoramic city views, ideal for hosting soirées under the stars. Experience urban living at its finest in this City Center Heights masterpiece.\n",
      "\n",
      "Neighborhood Description: City Center Heights is a vibrant and bustling neighborhood in the heart of the city, offering easy access to restaurants, shops, cultural attractions, and entertainment venues. Enjoy a cosmopolitan lifestyle with trendy cafes, art galleries, and theaters just steps away from your doorstep. Explore the city's vibrant nightlife or take a leisurely stroll through the nearby parks and green spaces. With convenient access to public transportation and major highways, City Center Heights provides the ultimate urban living experience for those seeking luxury and convenience in the city center.\n",
      "Neighborhood: Pinecrest Retreat\n",
      "Price: $500,000\n",
      "Bedrooms: 2\n",
      "Bathrooms: 1\n",
      "House Size: 1,200 sqft\n",
      "\n",
      "Description: Escape to the tranquil Pinecrest Retreat, where this cozy 2-bedroom, 1-bathroom home offers a peaceful sanctuary amidst nature. The open floor plan features a bright living room with a wood-burning fireplace, perfect for cozy evenings with loved ones. The kitchen boasts stainless steel appliances, granite countertops, and a breakfast bar for casual dining. The spacious bedrooms provide ample space for relaxation, while the updated bathroom exudes a spa-like ambiance. Step outside to the expansive deck overlooking the lush forest, ideal for enjoying morning coffee or hosting BBQs with friends. Embrace the serenity of nature in this Pinecrest Retreat hideaway.\n",
      "\n",
      "Neighborhood Description: Pinecrest Retreat is a secluded neighborhood surrounded by towering pine trees and scenic hiking trails, offering a tranquil escape from the hustle and bustle of city life. Explore the nearby nature reserves and wildlife sanctuaries, perfect for outdoor enthusiasts and nature lovers. Enjoy birdwatching, hiking, or simply unwinding in the peaceful surroundings of Pinecrest Retreat. With easy access to local markets, cafes, and community events, this neighborhood provides a perfect balance of nature and convenience for those seeking a retreat close to nature. Experience the beauty of forest living in this idyllic Pinecrest Retreat home.\n",
      "Neighborhood: Riverside Estates\n",
      "Price: $2,500,000\n",
      "Bedrooms: 5\n",
      "Bathrooms: 6\n",
      "House Size: 6,000 sqft\n",
      "\n",
      "Description: Indulge in luxury living at Riverside Estates, where this exquisite 5-bedroom, 6-bathroom home offers unparalleled elegance and sophistication. The grand foyer welcomes you into a spacious living room with floor-to-ceiling windows, showcasing breathtaking views of the river. The gourmet kitchen is a culinary masterpiece with high-end appliances, marble countertops, and a large center island for gatherings. The master suite is a lavish retreat with a private balcony, dual walk-in closets, and a spa-like ensuite bathroom. Entertain in style in the expansive backyard with a pool, spa, and outdoor kitchen, perfect for hosting lavish parties or relaxing in the sun. Experience the epitome of luxury living in this Riverside Estates masterpiece.\n",
      "\n",
      "Neighborhood Description: Riverside Estates is an exclusive waterfront community nestled along the riverbank, offering a serene and upscale living experience for discerning homeowners. Enjoy private access to the river for boating, fishing, and water sports, or take a leisurely stroll along the scenic riverfront promenade. The neighborhood is dotted with upscale boutiques, fine dining restaurants, and cultural attractions, providing a sophisticated lifestyle for residents. With top-rated schools, parks, and recreational facilities nearby, Riverside Estates is the perfect enclave for those seeking luxury living in a picturesque setting. Embrace waterfront living at its finest in this prestigious Riverside Estates home.\n",
      "Neighborhood: Urban Oasis Heights\n",
      "Price: $800,000\n",
      "Bedrooms: 3\n",
      "Bathrooms: 2.5\n",
      "House Size: 2,000 sqft\n",
      "\n",
      "Description: Discover the charm of Urban Oasis Heights with this stylish 3-bedroom, 2.5-bathroom home that offers a perfect blend of modern living and urban convenience. The open concept living area features high ceilings, large windows, and sleek finishes, creating a bright and inviting space for entertaining guests. The gourmet kitchen is equipped with stainless steel appliances, quartz countertops, and a spacious island for casual dining. Retreat to the luxurious master suite with a walk-in closet and a spa-like ensuite bathroom for ultimate relaxation. Step outside to the private backyard oasis with a patio, lush landscaping, and a fire pit, ideal for outdoor gatherings and al fresco dining. Experience urban living at its finest in this Urban Oasis Heights gem.\n",
      "\n",
      "Neighborhood Description: Urban Oasis Heights is a vibrant neighborhood located in the heart of the city center, offering a dynamic mix of trendy cafes, boutique shops, and cultural attractions within walking distance. Enjoy easy access to public transportation, parks, and entertainment venues, making it a sought-after location for urban dwellers seeking a lively lifestyle. Explore the bustling streets lined with art galleries, street markets, and eclectic eateries, creating a vibrant atmosphere for residents to immerse themselves in city living. With a strong sense of community and a variety of amenities at your doorstep, Urban Oasis Heights provides a perfect urban retreat for those looking to experience the pulse of city life. Embrace the energy of urban living in this chic Urban Oasis Heights residence.\n",
      "Neighborhood: Tranquil Woods Retreat\n",
      "Price: $600,000\n",
      "Bedrooms: 4\n",
      "Bathrooms: 3\n",
      "House Size: 2,500 sqft\n",
      "\n",
      "Description: Escape to the peaceful surroundings of Tranquil Woods Retreat, where this charming 4-bedroom, 3-bathroom home offers a serene sanctuary amidst nature's beauty. The cozy living room features a stone fireplace and large windows that frame the lush greenery outside, creating a warm and inviting atmosphere for relaxation. The country-style kitchen boasts wood cabinetry, granite countertops, and a breakfast nook overlooking the tranquil backyard. The spacious master suite is a private haven with a spa-like ensuite bathroom and a walk-in closet for added convenience. Step outside to the expansive deck surrounded by towering trees, perfect for enjoying morning coffee or hosting outdoor gatherings with loved ones. Experience the tranquility of nature in this Tranquil Woods Retreat home.\n",
      "\n",
      "Neighborhood Description: Tranquil Woods Retreat is a secluded neighborhood nestled in a wooded area, offering residents a peaceful escape from the hustle and bustle of city life. Enjoy the sounds of birds chirping, the rustling of leaves, and the fresh scent of pine trees in this idyllic setting that promotes relaxation and rejuvenation. Explore nearby hiking trails, nature reserves, and parks for outdoor adventures, or simply unwind in the privacy of your own backyard surrounded by nature's beauty. With a strong sense of community and a focus on preserving the natural environment, Tranquil Woods Retreat provides a harmonious balance between modern living and the great outdoors. Embrace the tranquility of nature in this charming retreat home.\n",
      "Neighborhood: Luxe City Living\n",
      "Price: $1,200,000\n",
      "Bedrooms: 5\n",
      "Bathrooms: 4.5\n",
      "House Size: 3,500 sqft\n",
      "\n",
      "Description: Indulge in the epitome of luxury living with this exquisite 5-bedroom, 4.5-bathroom home in the prestigious Luxe City Living neighborhood. The grand foyer welcomes you into a sophisticated living space adorned with high-end finishes, custom millwork, and designer touches throughout. The gourmet chef's kitchen is a culinary masterpiece, featuring top-of-the-line appliances, marble countertops, and a spacious island for culinary creations. The expansive master suite is a private retreat with a lavish ensuite bathroom, a walk-in closet, and a private balcony offering stunning city views. Entertain in style in the formal dining room, relax in the cozy family room, or host guests in the beautifully landscaped backyard with a sparkling pool and outdoor kitchen. Experience unparalleled luxury in this magnificent Luxe City Living residence.\n",
      "\n",
      "Neighborhood Description: Luxe City Living is an exclusive enclave in the heart of the city center, known for its upscale amenities, fine dining establishments, and designer boutiques that cater to the discerning tastes of residents. Enjoy easy access to cultural landmarks, entertainment venues, and luxury shopping destinations, creating a sophisticated urban lifestyle for those seeking the best in city living. Stroll along tree-lined streets, dine at Michelin-starred restaurants, and attend exclusive events in this prestigious neighborhood that exudes elegance and refinement. With a focus on luxury living and unparalleled convenience, Luxe City Living offers a prestigious address for those who appreciate the finer things in life. Immerse yourself in the opulence of city living in this luxurious Luxe City Living home.\n",
      "Neighborhood: Riverside Haven\n",
      "Price: $800,000\n",
      "Bedrooms: 3\n",
      "Bathrooms: 2.5\n",
      "House Size: 2,000 sqft\n",
      "\n",
      "Description: Embrace the tranquil beauty of Riverside Haven with this charming 3-bedroom, 2.5-bathroom home that offers a serene escape along the riverbank. The open-concept living area features vaulted ceilings, large windows, and a cozy fireplace, creating a welcoming space for relaxation and entertainment. The gourmet kitchen boasts stainless steel appliances, granite countertops, and a breakfast bar overlooking the scenic river views. The spacious master suite is a peaceful retreat with a spa-like ensuite bathroom and a private balcony to enjoy the soothing sounds of the river below. Step outside to the lush backyard oasis with a deck, perfect for alfresco dining and enjoying the picturesque sunsets over the water. Experience the tranquility of riverside living in this Riverside Haven home.\n",
      "\n",
      "Neighborhood Description: Riverside Haven is a picturesque neighborhood situated along the tranquil river, offering residents a peaceful retreat from the hustle and bustle of city life. Enjoy the calming sounds of flowing water, the gentle rustling of leaves, and the abundant wildlife that call the riverbank home in this idyllic setting that promotes relaxation and connection with nature. Explore nearby walking paths, fishing spots, and waterfront parks for outdoor activities, or simply unwind in the serenity of your own backyard overlooking the river. With a strong sense of community and a focus on preserving the natural beauty of the riverfront, Riverside Haven provides a harmonious balance between waterfront living and modern comforts. Immerse yourself in the beauty of riverside living in this charming haven home.\n"
     ]
    }
   ],
   "source": [
    "for i in range(10):\n",
    "    # get the last two listings and generate a new one\n",
    "    new_listing = invent_listing(listings[-2:])\n",
    "    print(new_listing)\n",
    "    listings.append(new_listing)\n",
    "\n",
    "# write the listings to a json file to avoid having to recreate them every time\n",
    "with open('listings.json', 'w') as f:\n",
    "    json.dump(listings, f, indent=2)"
   ]
  },
  {
   "cell_type": "code",
   "execution_count": 4,
   "metadata": {},
   "outputs": [],
   "source": [
    "# load the listings from the json file\n",
    "with open('listings.json', 'r') as f:\n",
    "    listings = json.load(f)"
   ]
  },
  {
   "cell_type": "markdown",
   "metadata": {},
   "source": [
    "Example of an invented listing:\n"
   ]
  },
  {
   "cell_type": "markdown",
   "metadata": {},
   "source": [
    "\n",
    "## Semantic Search\n",
    "\n",
    "### Creating a Vector Database and Storing Listings\n",
    "\n",
    "The project must demonstrate the creation of a vector database and successfully storing real estate listing embeddings within it. The database should effectively store and organize the embeddings generated from the LLM-created listings.\n",
    "\n"
   ]
  },
  {
   "cell_type": "code",
   "execution_count": 26,
   "metadata": {},
   "outputs": [
    {
     "name": "stderr",
     "output_type": "stream",
     "text": [
      "c:\\Users\\z00110mk\\git\\Personalized-Real-Estate-Agent\\.venv\\Lib\\site-packages\\langchain_community\\embeddings\\openai.py:339: UserWarning: If you have openai>=1.0.0 installed and are using Azure, please use the `AzureOpenAIEmbeddings` class.\n",
      "  warnings.warn(\n"
     ]
    }
   ],
   "source": [
    "from langchain.text_splitter import CharacterTextSplitter\n",
    "from langchain.embeddings import OpenAIEmbeddings\n",
    "from langchain_core.documents import Document\n",
    "from langchain_chroma import Chroma\n",
    "\n",
    "# split the listings into chunks of 4000 characters. The chunks should be large enough to contain the entire listing. \n",
    "# Neverthelss we chunk just to make sure we don't exceed the token limit of the model.\n",
    "splitter = CharacterTextSplitter(chunk_size=4000, chunk_overlap=0)\n",
    "split_docs = splitter.split_documents([Document(listing, metadata={\"source\":f\"listing {i}\"}) for i, listing in enumerate(listings)])\n",
    "\n",
    "embeddings = OpenAIEmbeddings()\n",
    "\n",
    "vector_store = Chroma(\n",
    "    collection_name=\"listings_collection\",\n",
    "    embedding_function=embeddings,\n",
    ")\n",
    "vector_store.add_documents(documents=split_docs)\n",
    "\n",
    "def print_results(results):\n",
    "    for i, (doc, score) in enumerate(results):\n",
    "        print(f\"Rank {i+1}: {doc.metadata['source']} with score {score:.2f}\\n=======================================\\n{doc.page_content}\\n\\n\")\n",
    "\n",
    "# https://python.langchain.com/v0.2/docs/versions/migrating_chains/retrieval_qa/"
   ]
  },
  {
   "cell_type": "markdown",
   "metadata": {},
   "source": [
    "### Semantic Search of Listings Based on Buyer Preferences\n",
    "\n",
    "The application must include a functionality where listings are semantically searched based on given buyer preferences. The search should return listings that closely match the input preferences."
   ]
  },
  {
   "cell_type": "code",
   "execution_count": 27,
   "metadata": {},
   "outputs": [
    {
     "name": "stdout",
     "output_type": "stream",
     "text": [
      "Rank 1: listing 8 with score 0.79\n",
      "=======================================\n",
      "Neighborhood: Tranquil Woods Retreat\n",
      "Price: $600,000\n",
      "Bedrooms: 4\n",
      "Bathrooms: 3\n",
      "House Size: 2,500 sqft\n",
      "\n",
      "Description: Escape to the peaceful surroundings of Tranquil Woods Retreat, where this charming 4-bedroom, 3-bathroom home offers a serene sanctuary amidst nature's beauty. The cozy living room features a stone fireplace and large windows that frame the lush greenery outside, creating a warm and inviting atmosphere for relaxation. The country-style kitchen boasts wood cabinetry, granite countertops, and a breakfast nook overlooking the tranquil backyard. The spacious master suite is a private haven with a spa-like ensuite bathroom and a walk-in closet for added convenience. Step outside to the expansive deck surrounded by towering trees, perfect for enjoying morning coffee or hosting outdoor gatherings with loved ones. Experience the tranquility of nature in this Tranquil Woods Retreat home.\n",
      "\n",
      "Neighborhood Description: Tranquil Woods Retreat is a secluded neighborhood nestled in a wooded area, offering residents a peaceful escape from the hustle and bustle of city life. Enjoy the sounds of birds chirping, the rustling of leaves, and the fresh scent of pine trees in this idyllic setting that promotes relaxation and rejuvenation. Explore nearby hiking trails, nature reserves, and parks for outdoor adventures, or simply unwind in the privacy of your own backyard surrounded by nature's beauty. With a strong sense of community and a focus on preserving the natural environment, Tranquil Woods Retreat provides a harmonious balance between modern living and the great outdoors. Embrace the tranquility of nature in this charming retreat home.\n",
      "\n",
      "\n",
      "Rank 2: listing 8 with score 0.79\n",
      "=======================================\n",
      "Neighborhood: Tranquil Woods Retreat\n",
      "Price: $600,000\n",
      "Bedrooms: 4\n",
      "Bathrooms: 3\n",
      "House Size: 2,500 sqft\n",
      "\n",
      "Description: Escape to the peaceful surroundings of Tranquil Woods Retreat, where this charming 4-bedroom, 3-bathroom home offers a serene sanctuary amidst nature's beauty. The cozy living room features a stone fireplace and large windows that frame the lush greenery outside, creating a warm and inviting atmosphere for relaxation. The country-style kitchen boasts wood cabinetry, granite countertops, and a breakfast nook overlooking the tranquil backyard. The spacious master suite is a private haven with a spa-like ensuite bathroom and a walk-in closet for added convenience. Step outside to the expansive deck surrounded by towering trees, perfect for enjoying morning coffee or hosting outdoor gatherings with loved ones. Experience the tranquility of nature in this Tranquil Woods Retreat home.\n",
      "\n",
      "Neighborhood Description: Tranquil Woods Retreat is a secluded neighborhood nestled in a wooded area, offering residents a peaceful escape from the hustle and bustle of city life. Enjoy the sounds of birds chirping, the rustling of leaves, and the fresh scent of pine trees in this idyllic setting that promotes relaxation and rejuvenation. Explore nearby hiking trails, nature reserves, and parks for outdoor adventures, or simply unwind in the privacy of your own backyard surrounded by nature's beauty. With a strong sense of community and a focus on preserving the natural environment, Tranquil Woods Retreat provides a harmonious balance between modern living and the great outdoors. Embrace the tranquility of nature in this charming retreat home.\n",
      "\n",
      "\n",
      "Rank 3: listing 2 with score 0.74\n",
      "=======================================\n",
      "Neighborhood: Pinecrest Estates\n",
      "Price: $600,000\n",
      "Bedrooms: 5\n",
      "Bathrooms: 3.5\n",
      "House Size: 2,800 sqft\n",
      "\n",
      "Description: Escape to the tranquility of Pinecrest Estates, where this spacious 5-bedroom, 3.5-bathroom home awaits. Surrounded by lush greenery and towering pine trees, this retreat offers a peaceful sanctuary away from the hustle and bustle of city life. The expansive living room features a cozy fireplace and large windows that frame picturesque views of the forest. The gourmet kitchen is a chef's dream with granite countertops and stainless steel appliances. Step outside to the sprawling backyard with a deck, perfect for hosting summer barbecues or simply enjoying the serenity of nature. Embrace the beauty of the outdoors while still enjoying the comforts of modern living in this Pinecrest Estates gem.\n",
      "\n",
      "Neighborhood Description: Pinecrest Estates is a nature lover's paradise, with hiking trails, lakes, and parks just a stone's throw away. Spend weekends exploring the nearby Pinecrest National Park or picnicking by the tranquil Pinecrest Lake. Enjoy the peace and quiet of suburban living while still being within a short drive to the city center for work or entertainment. Experience the best of both worlds in Pinecrest Estates.\n",
      "\n",
      "\n"
     ]
    }
   ],
   "source": [
    "\n",
    "results = vector_store.similarity_search_with_relevance_scores(\"An affordable house in the woods\", k=3)\n",
    "print_results(results)"
   ]
  },
  {
   "cell_type": "markdown",
   "metadata": {},
   "source": [
    "\n",
    "## Augmented Response Generation\n",
    "\n",
    "### Logic for Searching and Augmenting Listing Descriptions\n",
    "\n",
    "The project must demonstrate a logical flow where buyer preferences are used to search and then augment the description of real estate listings. The augmentation should personalize the listing without changing factual information.\n"
   ]
  },
  {
   "cell_type": "code",
   "execution_count": 11,
   "metadata": {},
   "outputs": [],
   "source": [
    "# Establish buyer preferences\n",
    "\n",
    "questions = [   \n",
    "                \"How big do you want your house to be?\" \n",
    "                \"What are 3 most important things for you in choosing this property?\", \n",
    "                \"Which amenities would you like?\", \n",
    "                \"Which transportation options are important to you?\",\n",
    "                \"How urban do you want your neighborhood to be?\",   \n",
    "            ]\n",
    "answers = [\n",
    "    \"A comfortable three-bedroom house with a spacious kitchen and a cozy living room.\",\n",
    "    \"A quiet neighborhood, good local schools, and convenient shopping options.\",\n",
    "    \"A backyard for gardening, a two-car garage, and a modern, energy-efficient heating system.\",\n",
    "    \"Easy access to a reliable bus line, proximity to a major highway, and bike-friendly roads.\",\n",
    "    \"A balance between suburban tranquility and access to urban amenities like restaurants and theaters.\"\n",
    "]"
   ]
  },
  {
   "cell_type": "code",
   "execution_count": 14,
   "metadata": {},
   "outputs": [
    {
     "name": "stdout",
     "output_type": "stream",
     "text": [
      "Summary of Preferences:\n",
      "- A comfortable three-bedroom house with a spacious kitchen and a cozy living room.\n",
      "- Amenities: Quiet neighborhood, good local schools, and convenient shopping options.\n",
      "- Desired features: Backyard for gardening, two-car garage, and modern, energy-efficient heating system.\n",
      "- Transportation preferences: Easy access to a reliable bus line, proximity to a major highway, and bike-friendly roads.\n",
      "- Urban preference: Access to a reliable bus line, proximity to a major highway, and bike-friendly roads.\n"
     ]
    }
   ],
   "source": [
    "from langchain_openai import ChatOpenAI\n",
    "from langchain_core.messages import HumanMessage, AIMessage\n",
    "\n",
    "llm = ChatOpenAI(model_name=model_name, temperature=0, max_tokens=2000)\n",
    "\n",
    "history = []\n",
    "for q, a in zip(questions, answers):\n",
    "    history.append(AIMessage(content=q))\n",
    "    history.append(HumanMessage(content=a))\n",
    "history.append(AIMessage(content=\"Thank you for sharing your preferences. I will now summarize them.\"))\n",
    "\n",
    "# summarize the user preferences\n",
    "summary = llm.invoke(history).content\n",
    "print(summary)"
   ]
  },
  {
   "cell_type": "code",
   "execution_count": 28,
   "metadata": {},
   "outputs": [
    {
     "name": "stdout",
     "output_type": "stream",
     "text": [
      "Rank 1: listing 0 with score 0.76\n",
      "=======================================\n",
      "Neighborhood: Green Oaks\n",
      "Price: $800,000\n",
      "Bedrooms: 3\n",
      "Bathrooms: 2\n",
      "House Size: 2,000 sqft\n",
      "\n",
      "Description: Welcome to this eco-friendly oasis nestled in the heart of Green Oaks. This charming 3-bedroom, 2-bathroom home boasts energy-efficient features such as solar panels and a well-insulated structure. Natural light floods the living spaces, highlighting the beautiful hardwood floors and eco-conscious finishes. The open-concept kitchen and dining area lead to a spacious backyard with a vegetable garden, perfect for the eco-conscious family. Embrace sustainable living without compromising on style in this Green Oaks gem.\n",
      "\n",
      "Neighborhood Description: Green Oaks is a close-knit, environmentally-conscious community with access to organic grocery stores, community gardens, and bike paths. Take a stroll through the nearby Green Oaks Park or grab a cup of coffee at the cozy Green Bean Cafe. With easy access to public transportation and bike lanes, commuting is a breeze.\n",
      "\n",
      "\n",
      "Rank 2: listing 0 with score 0.76\n",
      "=======================================\n",
      "Neighborhood: Green Oaks\n",
      "Price: $800,000\n",
      "Bedrooms: 3\n",
      "Bathrooms: 2\n",
      "House Size: 2,000 sqft\n",
      "\n",
      "Description: Welcome to this eco-friendly oasis nestled in the heart of Green Oaks. This charming 3-bedroom, 2-bathroom home boasts energy-efficient features such as solar panels and a well-insulated structure. Natural light floods the living spaces, highlighting the beautiful hardwood floors and eco-conscious finishes. The open-concept kitchen and dining area lead to a spacious backyard with a vegetable garden, perfect for the eco-conscious family. Embrace sustainable living without compromising on style in this Green Oaks gem.\n",
      "\n",
      "Neighborhood Description: Green Oaks is a close-knit, environmentally-conscious community with access to organic grocery stores, community gardens, and bike paths. Take a stroll through the nearby Green Oaks Park or grab a cup of coffee at the cozy Green Bean Cafe. With easy access to public transportation and bike lanes, commuting is a breeze.\n",
      "\n",
      "\n",
      "Rank 3: listing 3 with score 0.75\n",
      "=======================================\n",
      "Neighborhood: Riverside Gardens\n",
      "Price: $850,000\n",
      "Bedrooms: 3\n",
      "Bathrooms: 2.5\n",
      "House Size: 2,200 sqft\n",
      "\n",
      "Description: Nestled along the serene Riverside Gardens, this charming 3-bedroom, 2.5-bathroom home offers a perfect blend of comfort and elegance. The open-concept living area is bathed in natural light, creating a warm and inviting atmosphere. The updated kitchen features granite countertops, stainless steel appliances, and a breakfast nook overlooking the landscaped backyard. Retreat to the master suite with a walk-in closet and a spa-like ensuite bathroom with a soaking tub. Step outside to the lush garden oasis with a patio, ideal for al fresco dining or relaxing amidst the sounds of nature. Experience peaceful living in this Riverside Gardens sanctuary.\n",
      "\n",
      "Neighborhood Description: Riverside Gardens is a picturesque neighborhood with tree-lined streets and waterfront views. Enjoy leisurely walks along the riverbank or take a boat ride on the tranquil Riverside Lake. Explore nearby parks and green spaces, perfect for outdoor activities and family picnics. With easy access to local shops, schools, and community amenities, Riverside Gardens offers a peaceful retreat while still being close to urban conveniences. Experience the beauty of riverside living in this idyllic neighborhood.\n",
      "\n",
      "\n"
     ]
    }
   ],
   "source": [
    "results = vector_store.similarity_search_with_relevance_scores(summary, k=3)\n",
    "print_results(results)"
   ]
  },
  {
   "cell_type": "markdown",
   "metadata": {},
   "source": [
    "### Use of LLM for Generating Personalized Descriptions\n",
    "\n",
    "The submission must utilize an LLM to generate personalized descriptions for the real estate listings based on buyer preferences. The descriptions should be unique, appealing, and tailored to the preferences provided."
   ]
  },
  {
   "cell_type": "code",
   "execution_count": 32,
   "metadata": {},
   "outputs": [
    {
     "name": "stdout",
     "output_type": "stream",
     "text": [
      "Based on your preferences, I recommend the first listing in Green Oaks priced at $800,000.\n",
      "\n",
      "Here's how this listing matches your preferences:\n",
      "- It is a comfortable three-bedroom house with a spacious kitchen and a cozy living room.\n",
      "- The house has a backyard with a vegetable garden, perfect for gardening.\n",
      "- While it doesn't mention a two-car garage, it does emphasize eco-friendly features like solar panels, which align with your desire for modern, energy-efficient systems.\n",
      "- Green Oaks is described as a close-knit, quiet, and environmentally-conscious community with access to organic grocery stores and community gardens.\n",
      "- The neighborhood offers easy access to public transportation and bike lanes, meeting your transportation preferences.\n",
      "- The house is located in an urban area with access to public transportation and bike-friendly roads.\n",
      "\n",
      "Overall, this listing in Green Oaks aligns well with your preferences for a comfortable home in a quiet neighborhood with convenient amenities and transportation options.\n"
     ]
    }
   ],
   "source": [
    "from langchain_core.messages import HumanMessage, SystemMessage\n",
    "\n",
    "top_listings = \"\\n===========================\\n\".join([doc.page_content for doc, _ in results])\n",
    "\n",
    "system_prompt = f\"\"\"\n",
    "You are a real estate agent who helps users to find the right real estate listing based on their preferences. \n",
    "These are the available listings:\n",
    "\n",
    "{top_listings}\n",
    "\n",
    "Present the best listing to the user based on their preferences. \n",
    "Highlight the features that match their preferences. \n",
    "Only use the information provided in the listings.\"\"\"\n",
    "\n",
    "history = [\n",
    "        SystemMessage(content=system_prompt),\n",
    "        HumanMessage(content=\"My preferences are:\\n\" + summary + \"\\nWhich listing do you recommend?\")\n",
    "    ]\n",
    "\n",
    "response = llm.invoke(history).content\n",
    "print(response)"
   ]
  },
  {
   "cell_type": "markdown",
   "metadata": {},
   "source": []
  }
 ],
 "metadata": {
  "kernelspec": {
   "display_name": ".venv",
   "language": "python",
   "name": "python3"
  },
  "language_info": {
   "codemirror_mode": {
    "name": "ipython",
    "version": 3
   },
   "file_extension": ".py",
   "mimetype": "text/x-python",
   "name": "python",
   "nbconvert_exporter": "python",
   "pygments_lexer": "ipython3",
   "version": "3.11.7"
  }
 },
 "nbformat": 4,
 "nbformat_minor": 2
}
